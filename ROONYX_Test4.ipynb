{
 "cells": [
  {
   "cell_type": "code",
   "execution_count": 86,
   "metadata": {},
   "outputs": [],
   "source": [
    "import pandas as pd\n",
    "import numpy as np\n",
    "from sklearn.preprocessing import LabelEncoder\n",
    "\n",
    "import tensorflow as tf\n",
    "from tensorflow import keras"
   ]
  },
  {
   "cell_type": "code",
   "execution_count": 87,
   "metadata": {
    "scrolled": false
   },
   "outputs": [
    {
     "name": "stderr",
     "output_type": "stream",
     "text": [
      "C:\\Users\\Victor\\anaconda3\\lib\\site-packages\\ipykernel_launcher.py:6: SettingWithCopyWarning: \n",
      "A value is trying to be set on a copy of a slice from a DataFrame.\n",
      "Try using .loc[row_indexer,col_indexer] = value instead\n",
      "\n",
      "See the caveats in the documentation: https://pandas.pydata.org/pandas-docs/stable/user_guide/indexing.html#returning-a-view-versus-a-copy\n",
      "  \n"
     ]
    }
   ],
   "source": [
    "df = pd.read_csv('data/WA_Fn-UseC_-Telco-Customer-Churn.csv')\n",
    "label_encoder = LabelEncoder()\n",
    "categorical_columns = ['tenure', 'Contract', 'InternetService', 'Churn']\n",
    "df2 = df[categorical_columns]\n",
    "for column in categorical_columns:\n",
    "    df2[column] = label_encoder.fit_transform(df2[column])"
   ]
  },
  {
   "cell_type": "code",
   "execution_count": 88,
   "metadata": {},
   "outputs": [
    {
     "name": "stderr",
     "output_type": "stream",
     "text": [
      "C:\\Users\\Victor\\anaconda3\\lib\\site-packages\\ipykernel_launcher.py:1: SettingWithCopyWarning: \n",
      "A value is trying to be set on a copy of a slice from a DataFrame.\n",
      "Try using .loc[row_indexer,col_indexer] = value instead\n",
      "\n",
      "See the caveats in the documentation: https://pandas.pydata.org/pandas-docs/stable/user_guide/indexing.html#returning-a-view-versus-a-copy\n",
      "  \"\"\"Entry point for launching an IPython kernel.\n"
     ]
    }
   ],
   "source": [
    "df2['tenure'] = df2['tenure'] / 72"
   ]
  },
  {
   "cell_type": "code",
   "execution_count": 89,
   "metadata": {},
   "outputs": [],
   "source": [
    "from sklearn.tree import DecisionTreeClassifier\n",
    "from sklearn.model_selection import train_test_split\n",
    "\n",
    "data_for_train = df2[['tenure', 'InternetService', 'Contract']]\n",
    "data_for_train\n",
    "target_vector = df2['Churn']\n",
    "target_vector\n",
    "\n",
    "X_train, X_test, Y_train, Y_test = train_test_split(\n",
    "data_for_train, target_vector, test_size=0.2, random_state=42)\n",
    "X_train = np.array(X_train)\n",
    "Y_train = np.array(Y_train)\n",
    "X_test = np.array(X_test)\n",
    "Y_test = np.array(Y_test)"
   ]
  },
  {
   "cell_type": "code",
   "execution_count": 90,
   "metadata": {},
   "outputs": [],
   "source": [
    "model = keras.Sequential([\n",
    "    keras.layers.Dense(3, activation='tanh'),\n",
    "    keras.layers.Dense(1, activation='tanh')\n",
    "])"
   ]
  },
  {
   "cell_type": "code",
   "execution_count": 91,
   "metadata": {},
   "outputs": [],
   "source": [
    "model.compile(optimizer='adam',\n",
    "              loss='sparse_categorical_crossentropy',\n",
    "              metrics=['accuracy'])"
   ]
  },
  {
   "cell_type": "code",
   "execution_count": 93,
   "metadata": {
    "scrolled": false
   },
   "outputs": [
    {
     "name": "stdout",
     "output_type": "stream",
     "text": [
      "Train on 5634 samples\n",
      "Epoch 1/100\n",
      "5634/5634 [==============================] - 0s 72us/sample - loss: nan - acc: 0.7345\n",
      "Epoch 2/100\n",
      "5634/5634 [==============================] - 0s 76us/sample - loss: nan - acc: 0.7345\n",
      "Epoch 3/100\n",
      "5634/5634 [==============================] - 0s 69us/sample - loss: nan - acc: 0.7345\n",
      "Epoch 4/100\n",
      "5634/5634 [==============================] - 0s 70us/sample - loss: nan - acc: 0.7345\n",
      "Epoch 5/100\n",
      "5634/5634 [==============================] - 0s 69us/sample - loss: nan - acc: 0.7345\n",
      "Epoch 6/100\n",
      "5634/5634 [==============================] - 0s 68us/sample - loss: nan - acc: 0.7345\n",
      "Epoch 7/100\n",
      "5634/5634 [==============================] - 0s 68us/sample - loss: nan - acc: 0.7345\n",
      "Epoch 8/100\n",
      "5634/5634 [==============================] - 0s 68us/sample - loss: nan - acc: 0.7345\n",
      "Epoch 9/100\n",
      "5634/5634 [==============================] - 0s 69us/sample - loss: nan - acc: 0.7345\n",
      "Epoch 10/100\n",
      "5634/5634 [==============================] - 0s 69us/sample - loss: nan - acc: 0.7345\n",
      "Epoch 11/100\n",
      "5634/5634 [==============================] - 0s 75us/sample - loss: nan - acc: 0.7345\n",
      "Epoch 12/100\n",
      "5634/5634 [==============================] - 0s 79us/sample - loss: nan - acc: 0.7345\n",
      "Epoch 13/100\n",
      "5634/5634 [==============================] - 0s 80us/sample - loss: nan - acc: 0.7345\n",
      "Epoch 14/100\n",
      "5634/5634 [==============================] - 0s 69us/sample - loss: nan - acc: 0.7345\n",
      "Epoch 15/100\n",
      "5634/5634 [==============================] - 0s 68us/sample - loss: nan - acc: 0.7345\n",
      "Epoch 16/100\n",
      "5634/5634 [==============================] - 0s 69us/sample - loss: nan - acc: 0.7345\n",
      "Epoch 17/100\n",
      "5634/5634 [==============================] - 0s 68us/sample - loss: nan - acc: 0.7345\n",
      "Epoch 18/100\n",
      "5634/5634 [==============================] - 0s 70us/sample - loss: nan - acc: 0.7345\n",
      "Epoch 19/100\n",
      "5634/5634 [==============================] - 0s 68us/sample - loss: nan - acc: 0.7345\n",
      "Epoch 20/100\n",
      "5634/5634 [==============================] - 0s 69us/sample - loss: nan - acc: 0.7345\n",
      "Epoch 21/100\n",
      "5634/5634 [==============================] - 0s 69us/sample - loss: nan - acc: 0.7345\n",
      "Epoch 22/100\n",
      "5634/5634 [==============================] - 0s 76us/sample - loss: nan - acc: 0.7345\n",
      "Epoch 23/100\n",
      "5634/5634 [==============================] - 0s 78us/sample - loss: nan - acc: 0.7345\n",
      "Epoch 24/100\n",
      "5634/5634 [==============================] - 0s 69us/sample - loss: nan - acc: 0.7345\n",
      "Epoch 25/100\n",
      "5634/5634 [==============================] - 0s 69us/sample - loss: nan - acc: 0.7345\n",
      "Epoch 26/100\n",
      "5634/5634 [==============================] - 0s 69us/sample - loss: nan - acc: 0.7345\n",
      "Epoch 27/100\n",
      "5634/5634 [==============================] - 0s 69us/sample - loss: nan - acc: 0.7345\n",
      "Epoch 28/100\n",
      "5634/5634 [==============================] - 0s 75us/sample - loss: nan - acc: 0.7345\n",
      "Epoch 29/100\n",
      "5634/5634 [==============================] - 0s 69us/sample - loss: nan - acc: 0.7345\n",
      "Epoch 30/100\n",
      "5634/5634 [==============================] - 0s 69us/sample - loss: nan - acc: 0.7345\n",
      "Epoch 31/100\n",
      "5634/5634 [==============================] - 0s 69us/sample - loss: nan - acc: 0.7345\n",
      "Epoch 32/100\n",
      "5634/5634 [==============================] - ETA: 0s - loss: nan - acc: 0.73 - 0s 67us/sample - loss: nan - acc: 0.7345\n",
      "Epoch 33/100\n",
      "5634/5634 [==============================] - 0s 69us/sample - loss: nan - acc: 0.7345\n",
      "Epoch 34/100\n",
      "5634/5634 [==============================] - 0s 69us/sample - loss: nan - acc: 0.7345\n",
      "Epoch 35/100\n",
      "5634/5634 [==============================] - 0s 69us/sample - loss: nan - acc: 0.7345\n",
      "Epoch 36/100\n",
      "5634/5634 [==============================] - 0s 69us/sample - loss: nan - acc: 0.7345\n",
      "Epoch 37/100\n",
      "5634/5634 [==============================] - 0s 69us/sample - loss: nan - acc: 0.7345\n",
      "Epoch 38/100\n",
      "5634/5634 [==============================] - 0s 69us/sample - loss: nan - acc: 0.7345\n",
      "Epoch 39/100\n",
      "5634/5634 [==============================] - 0s 68us/sample - loss: nan - acc: 0.7345\n",
      "Epoch 40/100\n",
      "5634/5634 [==============================] - 0s 68us/sample - loss: nan - acc: 0.7345\n",
      "Epoch 41/100\n",
      "5634/5634 [==============================] - 0s 69us/sample - loss: nan - acc: 0.7345\n",
      "Epoch 42/100\n",
      "5634/5634 [==============================] - 0s 71us/sample - loss: nan - acc: 0.7345\n",
      "Epoch 43/100\n",
      "5634/5634 [==============================] - 0s 75us/sample - loss: nan - acc: 0.7345\n",
      "Epoch 44/100\n",
      "5634/5634 [==============================] - 0s 69us/sample - loss: nan - acc: 0.7345\n",
      "Epoch 45/100\n",
      "5634/5634 [==============================] - 0s 70us/sample - loss: nan - acc: 0.7345\n",
      "Epoch 46/100\n",
      "5634/5634 [==============================] - 0s 69us/sample - loss: nan - acc: 0.7345\n",
      "Epoch 47/100\n",
      "5634/5634 [==============================] - 0s 68us/sample - loss: nan - acc: 0.7345\n",
      "Epoch 48/100\n",
      "5634/5634 [==============================] - 0s 68us/sample - loss: nan - acc: 0.7345\n",
      "Epoch 49/100\n",
      "5634/5634 [==============================] - 0s 69us/sample - loss: nan - acc: 0.7345\n",
      "Epoch 50/100\n",
      "5634/5634 [==============================] - ETA: 0s - loss: nan - acc: 0.73 - 0s 69us/sample - loss: nan - acc: 0.7345\n",
      "Epoch 51/100\n",
      "5634/5634 [==============================] - 0s 72us/sample - loss: nan - acc: 0.7345\n",
      "Epoch 52/100\n",
      "5634/5634 [==============================] - 0s 83us/sample - loss: nan - acc: 0.7345\n",
      "Epoch 53/100\n",
      "5634/5634 [==============================] - 0s 83us/sample - loss: nan - acc: 0.7345\n",
      "Epoch 54/100\n",
      "5634/5634 [==============================] - 0s 71us/sample - loss: nan - acc: 0.7345\n",
      "Epoch 55/100\n",
      "5634/5634 [==============================] - 0s 77us/sample - loss: nan - acc: 0.7345\n",
      "Epoch 56/100\n",
      "5634/5634 [==============================] - 0s 75us/sample - loss: nan - acc: 0.7345\n",
      "Epoch 57/100\n",
      "5634/5634 [==============================] - 0s 73us/sample - loss: nan - acc: 0.7345\n",
      "Epoch 58/100\n",
      "5634/5634 [==============================] - 0s 69us/sample - loss: nan - acc: 0.7345\n",
      "Epoch 59/100\n",
      "5634/5634 [==============================] - 0s 74us/sample - loss: nan - acc: 0.7345\n",
      "Epoch 60/100\n",
      "5634/5634 [==============================] - 0s 74us/sample - loss: nan - acc: 0.7345\n",
      "Epoch 61/100\n",
      "5634/5634 [==============================] - 0s 69us/sample - loss: nan - acc: 0.7345\n",
      "Epoch 62/100\n",
      "5634/5634 [==============================] - 0s 69us/sample - loss: nan - acc: 0.7345\n",
      "Epoch 63/100\n",
      "5634/5634 [==============================] - 0s 69us/sample - loss: nan - acc: 0.7345\n",
      "Epoch 64/100\n",
      "5634/5634 [==============================] - 0s 76us/sample - loss: nan - acc: 0.7345\n",
      "Epoch 65/100\n",
      "5634/5634 [==============================] - 0s 71us/sample - loss: nan - acc: 0.7345\n",
      "Epoch 66/100\n",
      "5634/5634 [==============================] - 0s 70us/sample - loss: nan - acc: 0.7345\n",
      "Epoch 67/100\n",
      "5634/5634 [==============================] - 0s 69us/sample - loss: nan - acc: 0.7345\n",
      "Epoch 68/100\n",
      "5634/5634 [==============================] - 0s 69us/sample - loss: nan - acc: 0.7345\n",
      "Epoch 69/100\n",
      "5634/5634 [==============================] - 0s 69us/sample - loss: nan - acc: 0.7345\n",
      "Epoch 70/100\n",
      "5634/5634 [==============================] - 0s 70us/sample - loss: nan - acc: 0.7345\n",
      "Epoch 71/100\n",
      "5634/5634 [==============================] - 0s 69us/sample - loss: nan - acc: 0.7345\n",
      "Epoch 72/100\n",
      "5634/5634 [==============================] - 0s 70us/sample - loss: nan - acc: 0.7345\n",
      "Epoch 73/100\n",
      "5634/5634 [==============================] - 0s 69us/sample - loss: nan - acc: 0.7345\n",
      "Epoch 74/100\n",
      "5634/5634 [==============================] - 0s 69us/sample - loss: nan - acc: 0.7345\n",
      "Epoch 75/100\n",
      "5634/5634 [==============================] - 0s 73us/sample - loss: nan - acc: 0.7345\n",
      "Epoch 76/100\n",
      "5634/5634 [==============================] - 0s 71us/sample - loss: nan - acc: 0.7345\n",
      "Epoch 77/100\n",
      "5634/5634 [==============================] - 0s 69us/sample - loss: nan - acc: 0.7345\n",
      "Epoch 78/100\n",
      "5634/5634 [==============================] - 0s 69us/sample - loss: nan - acc: 0.7345\n",
      "Epoch 79/100\n",
      "5634/5634 [==============================] - 0s 69us/sample - loss: nan - acc: 0.7345\n",
      "Epoch 80/100\n",
      "5634/5634 [==============================] - 0s 70us/sample - loss: nan - acc: 0.7345\n",
      "Epoch 81/100\n",
      "5634/5634 [==============================] - 0s 71us/sample - loss: nan - acc: 0.7345\n",
      "Epoch 82/100\n",
      "5634/5634 [==============================] - 0s 68us/sample - loss: nan - acc: 0.7345\n"
     ]
    },
    {
     "name": "stdout",
     "output_type": "stream",
     "text": [
      "Epoch 83/100\n",
      "5634/5634 [==============================] - 0s 71us/sample - loss: nan - acc: 0.7345\n",
      "Epoch 84/100\n",
      "5634/5634 [==============================] - 0s 70us/sample - loss: nan - acc: 0.7345\n",
      "Epoch 85/100\n",
      "5634/5634 [==============================] - 0s 69us/sample - loss: nan - acc: 0.7345\n",
      "Epoch 86/100\n",
      "5634/5634 [==============================] - 0s 68us/sample - loss: nan - acc: 0.7345\n",
      "Epoch 87/100\n",
      "5634/5634 [==============================] - 0s 84us/sample - loss: nan - acc: 0.7345\n",
      "Epoch 88/100\n",
      "5634/5634 [==============================] - 1s 95us/sample - loss: nan - acc: 0.7345\n",
      "Epoch 89/100\n",
      "5634/5634 [==============================] - 1s 96us/sample - loss: nan - acc: 0.7345\n",
      "Epoch 90/100\n",
      "5634/5634 [==============================] - 1s 93us/sample - loss: nan - acc: 0.7345\n",
      "Epoch 91/100\n",
      "5634/5634 [==============================] - 1s 89us/sample - loss: nan - acc: 0.7345\n",
      "Epoch 92/100\n",
      "5634/5634 [==============================] - 0s 83us/sample - loss: nan - acc: 0.7345\n",
      "Epoch 93/100\n",
      "5634/5634 [==============================] - 0s 73us/sample - loss: nan - acc: 0.7345\n",
      "Epoch 94/100\n",
      "5634/5634 [==============================] - 0s 74us/sample - loss: nan - acc: 0.7345\n",
      "Epoch 95/100\n",
      "5634/5634 [==============================] - 0s 76us/sample - loss: nan - acc: 0.7345\n",
      "Epoch 96/100\n",
      "5634/5634 [==============================] - 0s 69us/sample - loss: nan - acc: 0.7345\n",
      "Epoch 97/100\n",
      "5634/5634 [==============================] - 0s 69us/sample - loss: nan - acc: 0.7345\n",
      "Epoch 98/100\n",
      "5634/5634 [==============================] - 0s 69us/sample - loss: nan - acc: 0.7345\n",
      "Epoch 99/100\n",
      "5634/5634 [==============================] - 0s 69us/sample - loss: nan - acc: 0.7345\n",
      "Epoch 100/100\n",
      "5634/5634 [==============================] - 0s 70us/sample - loss: nan - acc: 0.7345\n"
     ]
    },
    {
     "data": {
      "text/plain": [
       "<tensorflow.python.keras.callbacks.History at 0x21c8313ca20>"
      ]
     },
     "execution_count": 93,
     "metadata": {},
     "output_type": "execute_result"
    }
   ],
   "source": [
    "model.fit(X_train, Y_train, epochs=100)"
   ]
  },
  {
   "cell_type": "code",
   "execution_count": 94,
   "metadata": {},
   "outputs": [
    {
     "name": "stdout",
     "output_type": "stream",
     "text": [
      "1409/1409 - 0s - loss: nan - acc: 0.7353\n",
      "\n",
      "Точность на проверочных данных: 0.73527324\n"
     ]
    }
   ],
   "source": [
    "test_loss, test_acc = model.evaluate(X_test, Y_test, verbose=2)\n",
    "\n",
    "print('\\nТочность на проверочных данных:', test_acc)"
   ]
  }
 ],
 "metadata": {
  "kernelspec": {
   "display_name": "Python 3",
   "language": "python",
   "name": "python3"
  },
  "language_info": {
   "codemirror_mode": {
    "name": "ipython",
    "version": 3
   },
   "file_extension": ".py",
   "mimetype": "text/x-python",
   "name": "python",
   "nbconvert_exporter": "python",
   "pygments_lexer": "ipython3",
   "version": "3.6.10"
  }
 },
 "nbformat": 4,
 "nbformat_minor": 4
}
